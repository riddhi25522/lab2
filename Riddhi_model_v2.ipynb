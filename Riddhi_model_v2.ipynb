{
 "cells": [
  {
   "cell_type": "code",
   "execution_count": 3,
   "id": "737d9026",
   "metadata": {},
   "outputs": [
    {
     "name": "stdout",
     "output_type": "stream",
     "text": [
      "Training Accuracy: 0.9626373626373627\n",
      "Testing Accuracy: 0.9824561403508771\n",
      "\n",
      "Classification Report:\n",
      "              precision    recall  f1-score   support\n",
      "\n",
      "           0       0.99      0.99      0.99        71\n",
      "           1       0.98      0.98      0.98        43\n",
      "\n",
      "    accuracy                           0.98       114\n",
      "   macro avg       0.98      0.98      0.98       114\n",
      "weighted avg       0.98      0.98      0.98       114\n",
      "\n"
     ]
    }
   ],
   "source": [
    "import pandas as pd\n",
    "from sklearn.model_selection import train_test_split\n",
    "from sklearn.preprocessing import StandardScaler\n",
    "from sklearn.svm import SVC\n",
    "from sklearn.metrics import accuracy_score, classification_report\n",
    "from sklearn.feature_selection import SelectKBest, f_classif\n",
    "\n",
    "# Load the dataset\n",
    "url = \"https://archive.ics.uci.edu/ml/machine-learning-databases/breast-cancer-wisconsin/wdbc.data\"\n",
    "names = [\"id_number\", \"diagnosis\", \"radius_mean\", \"texture_mean\", \"perimeter_mean\", \"area_mean\", \n",
    "         \"smoothness_mean\", \"compactness_mean\", \"concavity_mean\", \"concave_points_mean\", \n",
    "         \"symmetry_mean\", \"fractal_dimension_mean\", \"radius_se\", \"texture_se\", \"perimeter_se\", \n",
    "         \"area_se\", \"smoothness_se\", \"compactness_se\", \"concavity_se\", \"concave_points_se\", \n",
    "         \"symmetry_se\", \"fractal_dimension_se\", \"radius_worst\", \"texture_worst\", \n",
    "         \"perimeter_worst\", \"area_worst\", \"smoothness_worst\", \"compactness_worst\", \n",
    "         \"concavity_worst\", \"concave_points_worst\", \"symmetry_worst\", \"fractal_dimension_worst\"]\n",
    "data = pd.read_csv(url, names=names)\n",
    "\n",
    "# Preprocessing\n",
    "# Drop id_number column as it's not relevant for prediction\n",
    "data.drop(\"id_number\", axis=1, inplace=True)\n",
    "\n",
    "# Encode diagnosis (M: Malignant, B: Benign) to numerical values (0: Benign, 1: Malignant)\n",
    "data[\"diagnosis\"] = data[\"diagnosis\"].map({\"M\": 1, \"B\": 0})\n",
    "\n",
    "# Separate features (X) and target (y)\n",
    "X = data.drop(\"diagnosis\", axis=1)\n",
    "y = data[\"diagnosis\"]\n",
    "\n",
    "# Split data into training and testing sets\n",
    "X_train, X_test, y_train, y_test = train_test_split(X, y, test_size=0.2, random_state=42)\n",
    "\n",
    "# Feature scaling\n",
    "scaler = StandardScaler()\n",
    "X_train_scaled = scaler.fit_transform(X_train)\n",
    "X_test_scaled = scaler.transform(X_test)\n",
    "\n",
    "# Feature selection\n",
    "selector = SelectKBest(f_classif, k=10)\n",
    "X_train_selected = selector.fit_transform(X_train_scaled, y_train)\n",
    "X_test_selected = selector.transform(X_test_scaled)\n",
    "\n",
    "# Build and train Support Vector Machine (SVM) model\n",
    "svm_model = SVC(kernel='linear', random_state=45552)\n",
    "svm_model.fit(X_train_selected, y_train)\n",
    "\n",
    "# Predictions\n",
    "y_pred_train = svm_model.predict(X_train_selected)\n",
    "y_pred_test = svm_model.predict(X_test_selected)\n",
    "\n",
    "# Model evaluation\n",
    "train_accuracy = accuracy_score(y_train, y_pred_train)\n",
    "test_accuracy = accuracy_score(y_test, y_pred_test)\n",
    "\n",
    "print(\"Training Accuracy:\", train_accuracy)\n",
    "print(\"Testing Accuracy:\", test_accuracy)\n",
    "\n",
    "# Classification report\n",
    "print(\"\\nClassification Report:\")\n",
    "print(classification_report(y_test, y_pred_test))"
   ]
  },
  {
   "cell_type": "code",
   "execution_count": 4,
   "id": "f839332d",
   "metadata": {},
   "outputs": [],
   "source": [
    "import joblib\n",
    "\n",
    "joblib.dump(svm_model,\"model_v1.sav\")"
   ]
  }
 ],
 "metadata": {
  "kernelspec": {
   "display_name": "Python 3 (ipykernel)",
   "language": "python",
   "name": "python3"
  },
  "language_info": {
   "codemirror_mode": {
    "name": "ipython",
    "version": 3
   },
   "file_extension": ".py",
   "mimetype": "text/x-python",
   "name": "python",
   "nbconvert_exporter": "python",
   "pygments_lexer": "ipython3",
   "version": "3.11.5"
  }
 },
 "nbformat": 4,
 "nbformat_minor": 5
}
